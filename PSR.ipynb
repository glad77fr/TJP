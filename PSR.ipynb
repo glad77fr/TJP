{
 "cells": [
  {
   "cell_type": "code",
   "execution_count": 689,
   "metadata": {},
   "outputs": [],
   "source": [
    "import pandas as pd\n",
    "import numpy as np\n",
    "from datetime import datetime\n",
    "import matplotlib.pyplot as plt\n",
    "import os\n",
    "from os import path\n",
    "import glob\n",
    "import xlsxwriter\n",
    "import openpyxl # 3.0\n",
    "import re\n",
    "import datetime as dt"
   ]
  },
  {
   "cell_type": "markdown",
   "metadata": {},
   "source": [
    "## Import des données "
   ]
  },
  {
   "cell_type": "code",
   "execution_count": 690,
   "metadata": {},
   "outputs": [
    {
     "name": "stdout",
     "output_type": "stream",
     "text": [
      "Wall time: 2min 43s\n"
     ]
    }
   ],
   "source": [
    "%%time\n",
    "temps = pd.read_excel(\"Data/Dim temps.xlsx\")\n",
    "offres = pd.read_excel(\"Data/PBI Offres.xlsx\")\n",
    "candidature = pd.read_excel(\"Data/PBI Candidatures.xlsx\")\n",
    "candidat = pd.read_excel('Data/PBI Candidats.xlsx')"
   ]
  },
  {
   "cell_type": "markdown",
   "metadata": {},
   "source": [
    "## Déclaration des fonctions personnalisées utilisées"
   ]
  },
  {
   "cell_type": "code",
   "execution_count": 691,
   "metadata": {},
   "outputs": [],
   "source": [
    "# La fonction indicator permet de rattacher un évènement temporel (changement de statut, date de publication) à la dernière date du mois durant laquelle l'évènement s'est produit.\n",
    "# Ceci permet de réaliser des jointures dans la table de fait pour rattacher l'évènement à une ligne.\n",
    "\n",
    "def indicator_dt(dataframe_source, champ_source, nom_champ_cible):\n",
    "    dataframe_source[nom_champ_cible] = dataframe_source[champ_source].apply(lambda x: x.replace(day=x.days_in_month))\n",
    "    dataframe_source[nom_champ_cible] = dataframe_source[nom_champ_cible].astype(str)\n",
    "    dataframe_source[nom_champ_cible] = dataframe_source[nom_champ_cible].apply(lambda x: x[:10])\n",
    "\n",
    "# la fonction link_count est utilisée pour calculer les indicateurs. Elle permet de rattacher les date d'une source de données à des dates fin de mois puis de les compter (groupby).\n",
    "    \n",
    "def link_count( alim_dataFrame, target_dataFrame, left_keys, event_date, indicator_name, right_keys=None, type_conso=None):\n",
    "    # alim_dataFrame dataframe à alimenter\n",
    "    # target_dataFrame: dataframe contenant l'indicateur à récupérer\n",
    "    # left_keys : clés servant à réaliser la jointure sur le dataframe à alimenter\n",
    "    # event_date : date de l'\n",
    "    # event_name: nom de l'indicateur cible \n",
    "    # right_key : facultatif, nom des clés de jointure de droite dans le cas où ces dernière diffère de celle de gauche\n",
    "    \n",
    "    tr_target = target_dataFrame.copy()\n",
    "    tr_target[\"link_date\"] = tr_target[event_date].apply(lambda x: x.replace(day=x.days_in_month))\n",
    "    tr_target[\"link_date\"] = tr_target[\"link_date\"].astype(str)\n",
    "    tr_target[\"link_date\"] = tr_target[\"link_date\"].apply(lambda x: x[:10])\n",
    "    \n",
    "    tr_alim = alim_dataFrame[left_keys]\n",
    "\n",
    "    if right_keys == None:\n",
    "        right_keys = left_keys.copy()[:len(left_keys)-1]\n",
    "        right_keys.append(\"link_date\")    \n",
    "        result = tr_alim.merge(tr_target[right_keys], right_on = right_keys, left_on = left_keys, how='left')\n",
    "        \n",
    "        if type_conso == None:\n",
    "            result = result.groupby(left_keys)[\"link_date\"].count().reset_index()\n",
    "        if type_conso == \"unique\":\n",
    "            result = result.groupby(left_keys)[\"link_date\"].nunique().reset_index()\n",
    "            \n",
    "            print(result)\n",
    "            \n",
    "        result[indicator_name] = result[\"link_date\"]\n",
    "        result.drop([\"link_date\"], axis=1, inplace=True)\n",
    "        alim_dataFrame = alim_dataFrame.merge(result, on=left_keys, how='left')     \n",
    "        \n",
    "    else:\n",
    "        pass\n",
    "            \n",
    "    return alim_dataFrame"
   ]
  },
  {
   "cell_type": "markdown",
   "metadata": {},
   "source": [
    "## Transformation des données sources"
   ]
  },
  {
   "cell_type": "markdown",
   "metadata": {},
   "source": [
    "### Préparation de la table offres"
   ]
  },
  {
   "cell_type": "code",
   "execution_count": 692,
   "metadata": {},
   "outputs": [
    {
     "name": "stdout",
     "output_type": "stream",
     "text": [
      "Wall time: 532 ms\n"
     ]
    }
   ],
   "source": [
    "%%time\n",
    "# Remarques: Les données offres comportent des doublons. Une offre est publiée par exemple plusieurs fois le même jour, parfois même à la même minute.\n",
    "# Des règles sont appliquées afin de rendre unique la combinaison IdDemandeAuto, Date de publication de l'offre, Date de clôture réelle\n",
    "\n",
    "# Ajout d'une date fictive pour les offres ayant une date de publication de l'offre vide\n",
    "offres_prep = offres.copy()\n",
    "offres_prep.loc[offres_prep[\"Date de publication de l'offre\"].isna()==True,\"Date de publication de l'offre\"] =dt.date(1900, 1, 1)\n",
    "\n",
    "# Ajout du champ date de candidature contenant uniquement la partie date du champ Date de publication de l'offre\n",
    "offres_prep[\"date de publication\"] = offres_prep[\"Date de publication de l'offre\"].dt.date\n",
    "\n",
    "#Suppression des lignes doublons\n",
    "offres_prep = offres_prep.drop_duplicates()\n",
    "\n",
    "# Suppression des Date de publication identiques (on conserve pour un même jour que l'heure la plus récente ): regroupement des données par \"IdDemandeAuto\",\"date candidature\" et max \"Date de publication de l'offre\" afin ne conserver que les candidatures les plus récentes chauque jour\n",
    "to_keep = offres_prep.groupby([\"IdDemandeAuto\",\"date de publication\"])[\"Date de publication de l'offre\"].max().reset_index()\n",
    "to_keep = to_keep.merge(offres_prep[[\"IdDemandeAuto\", \"date de publication\",\"Date de publication de l'offre\",\"Date de clôture réelle\"]], on=[\"IdDemandeAuto\",\"date de publication\",\"Date de publication de l'offre\"], how=\"left\")\n",
    "\n",
    "# Lorsque date et heure de candidature identiques, on conserve la ligne avec la date de clôture réelle la plus grande\n",
    "to_keep = to_keep.groupby([\"IdDemandeAuto\",\"date de publication\",\"Date de publication de l'offre\"])[\"Date de clôture réelle\"].max().reset_index()\n",
    "\n",
    "# Jointure avec la table offres afin de récupérer les autres données\n",
    "offres_prep = to_keep.merge(offres_prep, on=[\"IdDemandeAuto\",\"date de publication\",\"Date de publication de l'offre\",\"Date de clôture réelle\"], how=\"left\")\n",
    "offres_prep.reset_index(drop=True, inplace=True)\n",
    "\n",
    "#Remplacement des valeurs Direction Gaz et Energie production par \"Gas Renewables And Power\" dans branche\n",
    "offres_prep[\"Branche\"]= offres_prep[\"Branche\"].apply(lambda x: \"Gas Renewables And Power\" if x in [\"Direction Gaz\", \"Energies Nouvelles\"] else x)\n",
    "\n",
    "# clé permettant un outer join avec la table fact_temps\n",
    "offres_prep[\"custom\"] = 1\n",
    "\n",
    "# Ajout d'une clé technique offre\n",
    "offres_prep[\"Key_offre\"] = offres_prep.index"
   ]
  },
  {
   "cell_type": "markdown",
   "metadata": {},
   "source": [
    "### Préparation de la table candidatures"
   ]
  },
  {
   "cell_type": "code",
   "execution_count": 693,
   "metadata": {},
   "outputs": [
    {
     "name": "stdout",
     "output_type": "stream",
     "text": [
      "Wall time: 316 ms\n"
     ]
    }
   ],
   "source": [
    "%%time\n",
    "# Filtre sur les candidatures internes\n",
    "\n",
    "candidature_prep = candidature.loc[candidature[\"Type\"]==\"Interne\"].copy()\n",
    "source1 = candidature_prep\n",
    "\n",
    "# Ajout de la clé offre\n",
    "candidature_prep = candidature_prep.merge(offres_prep[[\"IdDemandeAuto\", \"Key_offre\",\"Date de publication de l'offre\",  \"Date de clôture réelle\"]], on=[\"IdDemandeAuto\"], how=\"left\")\n",
    "candidature_prep = candidature_prep.loc[(candidature_prep[\"Date du dépôt de candidature\"]>=candidature_prep[\"Date de publication de l'offre\"]) & (candidature_prep[\"Date du dépôt de candidature\"]<=candidature_prep[\"Date de clôture réelle\"])]\n",
    "\n",
    "#df = df1.merge(df2, how = 'outer' ,indicator=True).loc[lambda x : x['_merge']=='left_only']\n"
   ]
  },
  {
   "cell_type": "markdown",
   "metadata": {},
   "source": [
    "### Préparation de la table candidat"
   ]
  },
  {
   "cell_type": "code",
   "execution_count": 694,
   "metadata": {},
   "outputs": [
    {
     "name": "stdout",
     "output_type": "stream",
     "text": [
      "Wall time: 256 ms\n"
     ]
    }
   ],
   "source": [
    "%%time\n",
    "candidat_prep = candidat.copy()\n",
    "candidat_prep = candidat_prep[['IdCandidat','Nom', 'Prénom','Type actuel candidat']]\n",
    "candidat_prep = candidat_prep.drop_duplicates()\n",
    "\n",
    "# Seul les candidats intenes sont retenus\n",
    "candidat_prep = candidat_prep.loc[candidat_prep[\"Type actuel candidat\"] == \"Interne\"]\n",
    "\n",
    "# Les candidats sont identifiés par la concaténation du nom et du prénom comme vu en atelier\n",
    "candidat_prep = candidat_prep[[\"IdCandidat\", \"Nom\", \"Prénom\"]]\n",
    "candidat_prep[\"Concat_name\"] = candidat_prep[\"Nom\"].astype('str') + \" \" + candidat_prep[\"Prénom\"].astype('str')\n",
    "index_name = pd.DataFrame({\"Concat_name\" : candidat_prep[\"Concat_name\"].unique()})\n",
    "index_name[\"Id_Cand\"] = index_name.index\n",
    "\n",
    "candidat_prep = candidat_prep.merge(index_name, on=\"Concat_name\", how='left')\n",
    "candidat_prep=candidat_prep.rename(columns={\"IdCandidat\" :\"Num. de référence du candidat\"})"
   ]
  },
  {
   "cell_type": "markdown",
   "metadata": {},
   "source": [
    "## Création des dimensions"
   ]
  },
  {
   "cell_type": "markdown",
   "metadata": {},
   "source": [
    "### Création de la dimension offre"
   ]
  },
  {
   "cell_type": "code",
   "execution_count": 695,
   "metadata": {},
   "outputs": [
    {
     "name": "stdout",
     "output_type": "stream",
     "text": [
      "Wall time: 397 ms\n"
     ]
    }
   ],
   "source": [
    "%%time\n",
    "dim_offres = offres_prep.copy()\n",
    "\n",
    "# Ajout de la durée de publication\n",
    "depubliees_nonvide = dim_offres.loc[dim_offres[\"Date de clôture réelle\"].isna()==False].copy()\n",
    "depubliees_nonvide[\"Durée publication\"] = (depubliees_nonvide[\"Date de clôture réelle\"] - depubliees_nonvide[\"Date de publication de l'offre\"]).dt.days\n",
    "dim_offres = dim_offres.merge(depubliees_nonvide[[\"Key_offre\", \"Durée publication\"]], on=[\"Key_offre\"], how='left')\n",
    "\n",
    "# Ajout de la durée de staffing\n",
    "affect_nonvide = candidature_prep.copy()\n",
    "affect_nonvide = affect_nonvide.loc[affect_nonvide[\"Interne - Affecté au poste\"].isna()==False]\n",
    "\n",
    "affect_nonvide=affect_nonvide.groupby([\"Key_offre\"])[\"Interne - Affecté au poste\"].min().reset_index()\n",
    "affect_nonvide = affect_nonvide.merge(dim_offres[[\"Key_offre\", \"Date de publication de l'offre\"]], on=[\"Key_offre\"], how='left')\n",
    "affect_nonvide[\"Durée staffing\"] = (affect_nonvide[\"Interne - Affecté au poste\"] - affect_nonvide[\"Date de publication de l'offre\"]).dt.days\n",
    "\n",
    "dim_offres = dim_offres.merge(affect_nonvide[[\"Key_offre\", \"Durée staffing\", \"Interne - Affecté au poste\"]], on=[\"Key_offre\"], how='left')"
   ]
  },
  {
   "cell_type": "markdown",
   "metadata": {},
   "source": [
    "### Création de la dimension temps et du DataFrame fact_temps utilisé comme grain temps dans les tables de faits"
   ]
  },
  {
   "cell_type": "code",
   "execution_count": 696,
   "metadata": {},
   "outputs": [
    {
     "name": "stdout",
     "output_type": "stream",
     "text": [
      "Wall time: 28.2 ms\n"
     ]
    }
   ],
   "source": [
    "%%time\n",
    "# Création de la table de temps. Nous gardons que les 2 dernières années\n",
    "dim_temps =  temps[[\"date key\",\"full date\", \"day num in month\", \"month\", \"month name\", \"year\",\"month and year\"]].copy()\n",
    "\n",
    "# Détermination de l'année actuelle\n",
    "now = dt.datetime.now()\n",
    "actual_year = now.year\n",
    "actual_month = now.month\n",
    "last_day=pd.Period(str(now)).days_in_month\n",
    "now = dt.date(actual_year,actual_month, last_day)\n",
    "now = np.datetime64(now)\n",
    "\n",
    "# dim_temps est filtrée sur l'année courante et l'année précédente\n",
    "dim_temps = dim_temps.loc[(dim_temps[\"year\"]==actual_year) | (dim_temps[\"year\"] == actual_year-1)]\n",
    "\n",
    "# Les dates portants sur le futur ne sont pas retenues sur l'année en cours\n",
    "dim_temps = dim_temps.loc[dim_temps[\"full date\"] <= now ]\n",
    "\n",
    "# Création de la table fact_temps permettant de créer la table de fait\n",
    "fact_temps = dim_temps[[\"year\", \"month\",\"day num in month\"]]\n",
    "fact_temps = fact_temps.groupby([\"year\", \"month\"])[\"day num in month\"].max().reset_index()\n",
    "\n",
    "fact_temps = fact_temps.merge(dim_temps[[\"year\", \"month\", \"day num in month\", \"full date\", \"date key\",\"month and year\"]], how='left', on=[\"year\", \"month\",\"day num in month\"])\n",
    "fact_temps[\"custom\"] = 1\n"
   ]
  },
  {
   "cell_type": "markdown",
   "metadata": {},
   "source": [
    "### Création de la dimension candidat"
   ]
  },
  {
   "cell_type": "code",
   "execution_count": 697,
   "metadata": {},
   "outputs": [],
   "source": [
    "dim_cand = candidat_prep.copy()"
   ]
  },
  {
   "cell_type": "markdown",
   "metadata": {},
   "source": [
    "## Création des tables faits"
   ]
  },
  {
   "cell_type": "markdown",
   "metadata": {},
   "source": [
    "### Création de la table de faits fact_offres"
   ]
  },
  {
   "cell_type": "code",
   "execution_count": 698,
   "metadata": {},
   "outputs": [
    {
     "name": "stdout",
     "output_type": "stream",
     "text": [
      "Wall time: 4.44 s\n"
     ]
    }
   ],
   "source": [
    "%%time\n",
    "# Création de la table de fait offres d'emploi: Grain = 1 offre (IdDemandeAuto, date de ) par mois\n",
    "fact_offres = dim_offres[[\"Key_offre\", \"IdDemandeAuto\",\"date de publication\",\"custom\"]].copy()\n",
    "fact_offres = fact_offres.drop_duplicates()\n",
    "fact_offres = fact_offres.merge(dim_offres[[\"Key_offre\",\"Date de publication de l'offre\", \"Date de clôture réelle\", \"Date d'ouverture\", \"Date de fermeture\"]], on=[\"Key_offre\"] ,how='left')\n",
    "fact_offres = fact_offres.merge(fact_temps[[\"date key\",\"full date\",\"custom\"]], on=[\"custom\"], how = 'outer')\n",
    "fact_offres[\"full date link\"] = fact_offres[\"full date\"].astype(str) # Full date en string pour jointure"
   ]
  },
  {
   "cell_type": "code",
   "execution_count": 699,
   "metadata": {},
   "outputs": [
    {
     "name": "stdout",
     "output_type": "stream",
     "text": [
      "Wall time: 8.56 s\n"
     ]
    }
   ],
   "source": [
    "%%time\n",
    "# indicateur nombre de publication\n",
    "fact_offres = link_count(fact_offres, dim_offres,[\"Key_offre\",\"full date link\"], \"Date de publication de l'offre\", \"Nombre de publications\")\n",
    "# indicateur nombre de dépublication\n",
    "fact_offres = link_count(fact_offres, dim_offres,[\"Key_offre\",\"full date link\"], \"Date de clôture réelle\", \"Nombre de dépublications\")\n",
    "# indicateur nombre d'offre étant publiées\n",
    "date_exclue= str(dt.date(1900, 1, 1))\n",
    "fact_offres.loc[(fact_offres[\"Date de publication de l'offre\"]<= fact_offres[\"full date\"]) & ((fact_offres[\"Date de clôture réelle\"]>fact_offres[\"full date\"]) | ((fact_offres[\"Date de clôture réelle\"].isna()==True) & (fact_offres[\"date de publication\"].astype('str') != date_exclue))),\"Nombre d'offres étant publiées\"]=1\n",
    "# indicateur nombre d'offre étant dépubliées\n",
    "fact_offres.loc[fact_offres[\"Date de clôture réelle\"]<=fact_offres[\"full date\"],\"Nombre d'offres étant dépubliées\"]=1\n",
    "# Termoin publié\n",
    "fact_offres.loc[fact_offres[\"Nombre d'offres étant publiées\"]==1, \"Témoin publication\"]= 1\n",
    "fact_offres.loc[fact_offres[\"Témoin publication\"] != 1, \"Témoin publication\"]= 0\n",
    "\n",
    "# indicateurs d'ouverture/fermeture\n",
    "#indcateur nombre d'offres ouvertes\n",
    "fact_offres = link_count(fact_offres, dim_offres,[\"Key_offre\",\"full date link\"], \"Date d'ouverture\", \"Nombre d'offres ouvertes\")\n",
    "#indicateur nombre d'offre fermées\n",
    "fact_offres = link_count(fact_offres, dim_offres,[\"Key_offre\",\"full date link\"], \"Date de fermeture\", \"Nombre d'offres fermées\")\n",
    "# indicateur nombre d'offres étant ouvertes\n",
    "fact_offres.loc[(fact_offres[\"Date d'ouverture\"]<= fact_offres[\"full date\"]) & ((fact_offres[\"Date de fermeture\"]>fact_offres[\"full date\"]) | (fact_offres[\"Date de fermeture\"].isna()==True)),\"Nombre d'offres étant ouvertes\"]=1\n",
    "# indicateur nombre d'offres étant fermées\n",
    "fact_offres.loc[fact_offres[\"Date de fermeture\"]<=fact_offres[\"full date\"],\"Nombre d'offres étant fermées\"]=1"
   ]
  },
  {
   "cell_type": "code",
   "execution_count": 700,
   "metadata": {},
   "outputs": [
    {
     "name": "stdout",
     "output_type": "stream",
     "text": [
      "Wall time: 5.37 s\n"
     ]
    }
   ],
   "source": [
    "%%time\n",
    "#Nombre de candidatures\n",
    "fact_offres = link_count(fact_offres, candidature_prep,[\"Key_offre\",\"full date link\"], \"Date du dépôt de candidature\", \"Nombre de candidature\")\n",
    "#Nombre de candidatures cumulées\n",
    "fact_offres[\"Nombre de candidatures cumulées\"] = fact_offres.groupby(['Key_offre'])[\"Nombre de candidature\"].cumsum()\n",
    "#Nombre de candidats affectés au poste\n",
    "fact_offres = link_count(fact_offres, candidature_prep,[\"Key_offre\",\"full date link\"], \"Interne - Affecté au poste\", \"Nombre de candidats affectés au poste\")\n",
    "#Nombre de candidats en short list\n",
    "fact_offres = link_count(fact_offres, candidature_prep,[\"Key_offre\",\"full date link\"], \"Interne - Shortlist finale\", \"Nombre de candidats en short list\")\n",
    "# Nombre d'offres staffée\n",
    "first_staff = fact_offres[(fact_offres[\"Nombre de candidats affectés au poste\"]>0) & (fact_offres[\"Nombre d'offres étant fermées\"]==1)].copy()\n",
    "first_staff = first_staff.groupby([\"Key_offre\"])[\"full date\"].min().reset_index()\n",
    "first_staff[\"Nombre d'offres staffées\"] = 1\n",
    "fact_offres = fact_offres.merge(first_staff, on=[\"Key_offre\",\"full date\"], how='left')\n",
    "#Nombre d'offres étant staffée \n",
    "fact_offres[\"Nombre d'offres étant staffées\"] = fact_offres.groupby(['Key_offre'])[\"Nombre d'offres staffées\"].cumsum()"
   ]
  },
  {
   "cell_type": "code",
   "execution_count": 701,
   "metadata": {},
   "outputs": [
    {
     "name": "stdout",
     "output_type": "stream",
     "text": [
      "<class 'pandas.core.frame.DataFrame'>\n",
      "Int64Index: 693405 entries, 0 to 693404\n",
      "Data columns (total 26 columns):\n",
      "Key_offre                                693405 non-null int64\n",
      "IdDemandeAuto                            693405 non-null object\n",
      "date de publication                      693405 non-null object\n",
      "custom                                   693405 non-null int64\n",
      "Date de publication de l'offre           693405 non-null datetime64[ns]\n",
      "Date de clôture réelle                   640260 non-null datetime64[ns]\n",
      "Date d'ouverture                         663675 non-null datetime64[ns]\n",
      "Date de fermeture                        393525 non-null datetime64[ns]\n",
      "date key                                 693405 non-null int64\n",
      "full date                                693405 non-null datetime64[ns]\n",
      "full date link                           693405 non-null object\n",
      "Nombre de publications                   693405 non-null int64\n",
      "Nombre de dépublications                 693405 non-null int64\n",
      "Nombre d'offres étant publiées           23817 non-null float64\n",
      "Nombre d'offres étant dépubliées         452368 non-null float64\n",
      "Témoin publication                       693405 non-null float64\n",
      "Nombre d'offres ouvertes                 693405 non-null int64\n",
      "Nombre d'offres fermées                  693405 non-null int64\n",
      "Nombre d'offres étant ouvertes           215367 non-null float64\n",
      "Nombre d'offres étant fermées            301785 non-null float64\n",
      "Nombre de candidature                    693405 non-null int64\n",
      "Nombre de candidatures cumulées          693405 non-null int64\n",
      "Nombre de candidats affectés au poste    693405 non-null int64\n",
      "Nombre de candidats en short list        693405 non-null int64\n",
      "Nombre d'offres staffées                 1220 non-null float64\n",
      "Nombre d'offres étant staffées           1220 non-null float64\n",
      "dtypes: datetime64[ns](5), float64(7), int64(11), object(3)\n",
      "memory usage: 142.8+ MB\n"
     ]
    }
   ],
   "source": [
    "fact_offres.info()"
   ]
  },
  {
   "cell_type": "code",
   "execution_count": 702,
   "metadata": {},
   "outputs": [
    {
     "name": "stdout",
     "output_type": "stream",
     "text": [
      "<class 'pandas.core.frame.DataFrame'>\n",
      "Int64Index: 693405 entries, 0 to 693404\n",
      "Data columns (total 26 columns):\n",
      "Key_offre                                693405 non-null int64\n",
      "IdDemandeAuto                            693405 non-null object\n",
      "date de publication                      693405 non-null object\n",
      "custom                                   693405 non-null int64\n",
      "Date de publication de l'offre           693405 non-null datetime64[ns]\n",
      "Date de clôture réelle                   640260 non-null datetime64[ns]\n",
      "Date d'ouverture                         663675 non-null datetime64[ns]\n",
      "Date de fermeture                        393525 non-null datetime64[ns]\n",
      "date key                                 693405 non-null int64\n",
      "full date                                693405 non-null datetime64[ns]\n",
      "full date link                           693405 non-null object\n",
      "Nombre de publications                   693405 non-null int64\n",
      "Nombre de dépublications                 693405 non-null int64\n",
      "Nombre d'offres étant publiées           693405 non-null int64\n",
      "Nombre d'offres étant dépubliées         693405 non-null int64\n",
      "Témoin publication                       693405 non-null int64\n",
      "Nombre d'offres ouvertes                 693405 non-null int64\n",
      "Nombre d'offres fermées                  693405 non-null int64\n",
      "Nombre d'offres étant ouvertes           693405 non-null int64\n",
      "Nombre d'offres étant fermées            693405 non-null int64\n",
      "Nombre de candidature                    693405 non-null int64\n",
      "Nombre de candidatures cumulées          693405 non-null int64\n",
      "Nombre de candidats affectés au poste    693405 non-null int64\n",
      "Nombre de candidats en short list        693405 non-null int64\n",
      "Nombre d'offres staffées                 693405 non-null int64\n",
      "Nombre d'offres étant staffées           693405 non-null int64\n",
      "dtypes: datetime64[ns](5), int64(18), object(3)\n",
      "memory usage: 142.8+ MB\n",
      "None\n",
      "Wall time: 701 ms\n"
     ]
    }
   ],
   "source": [
    "%%time\n",
    "# Typage des valeurs\n",
    "fact_offres.loc[fact_offres[\"Nombre d'offres étant publiées\"].isna()==True,\"Nombre d'offres étant publiées\"]=0\n",
    "fact_offres[\"Nombre d'offres étant publiées\"] = fact_offres[\"Nombre d'offres étant publiées\"].astype('int64')\n",
    "\n",
    "fact_offres.loc[fact_offres[\"Nombre d'offres étant dépubliées\"].isna()==True,\"Nombre d'offres étant dépubliées\"]=0\n",
    "fact_offres[\"Nombre d'offres étant dépubliées\"] = fact_offres[\"Nombre d'offres étant dépubliées\"].astype('int64')\n",
    "\n",
    "fact_offres.loc[fact_offres[\"Nombre d'offres étant ouvertes\"].isna()==True, \"Nombre d'offres étant ouvertes\"]=0\n",
    "fact_offres[\"Nombre d'offres étant ouvertes\"] = fact_offres[\"Nombre d'offres étant ouvertes\"].astype('int64')\n",
    "\n",
    "fact_offres.loc[fact_offres[\"Nombre d'offres étant dépubliées\"].isna()==True, \"Nombre d'offres étant dépubliées\"]=0\n",
    "fact_offres[\"Nombre d'offres étant dépubliées\"] = fact_offres[\"Nombre d'offres étant dépubliées\"].astype('int64') \n",
    "\n",
    "fact_offres.loc[fact_offres[\"Nombre d'offres étant fermées\"].isna()==True, \"Nombre d'offres étant fermées\"]=0\n",
    "fact_offres[\"Nombre d'offres étant fermées\"] = fact_offres[\"Nombre d'offres étant fermées\"].astype('int64') \n",
    "\n",
    "fact_offres.loc[fact_offres[\"Nombre d'offres staffées\"].isna()==True, \"Nombre d'offres staffées\"]=0\n",
    "fact_offres[\"Nombre d'offres staffées\"] = fact_offres[\"Nombre d'offres staffées\"].astype('int64')\n",
    "\n",
    "fact_offres.loc[fact_offres[\"Nombre d'offres étant staffées\"].isna()==True, \"Nombre d'offres étant staffées\"]=0\n",
    "fact_offres[\"Nombre d'offres étant staffées\"] = fact_offres[\"Nombre d'offres étant staffées\"].astype('int64')\n",
    "\n",
    "fact_offres[\"Témoin publication\"] = fact_offres[\"Témoin publication\"].astype('int64')\n",
    "\n",
    "print(fact_offres.info())"
   ]
  },
  {
   "cell_type": "markdown",
   "metadata": {},
   "source": [
    "### Création de table de fait candidats"
   ]
  },
  {
   "cell_type": "code",
   "execution_count": 703,
   "metadata": {},
   "outputs": [],
   "source": [
    "\n",
    "fact_candidat = candidature_prep[['Num. de référence du candidat','Key_offre','Date du dépôt de candidature']].copy()\n",
    "fact_candidat = fact_candidat.merge(candidat_prep, on='Num. de référence du candidat', how='left')\n",
    "fact_candidat[\"Nombre de candidature\"] = 1\n",
    "fact_candidat['Date du dépôt de candidature'] = fact_candidat['Date du dépôt de candidature'].astype('str')\n",
    "fact_candidat['Date du dépôt de candidature'] = fact_candidat['Date du dépôt de candidature'].apply(lambda x: x[:10])\n",
    "\n",
    "# Ajout de la clé temps\n",
    "temps_cand = dim_temps.copy()\n",
    "temps_cand[\"full date\"] =temps_cand[\"full date\"].astype('str')\n",
    "fact_candidat = fact_candidat.merge(temps_cand[[\"date key\",\"full date\"]], left_on=['Date du dépôt de candidature'], right_on=['full date'], how='left')\n",
    "# Suppression des candidatures n'étant pas ratachées à la période étudiée\n",
    "fact_candidat = fact_candidat[fact_candidat[\"date key\"].isna()== False]\n",
    "# Suppression des champs inutiles\n",
    "fact_candidat = fact_candidat[[\"Key_offre\", \"Num. de référence du candidat\",\"Nombre de candidature\"]]\n"
   ]
  },
  {
   "cell_type": "code",
   "execution_count": null,
   "metadata": {},
   "outputs": [],
   "source": [
    "%%time\n",
    "dim_offres.to_excel(r'Transformed data/dim_offres.xlsx')\n",
    "fact_offres.to_excel(r'Transformed data/fact_offres.xlsx')\n",
    "fact_candidat.to_excel(r'Transformed data/fact_candidat.xlsx')\n",
    "dim_temps.to_csv('rTransformed data/dim_temps.csv', encoding='utf-8', index=False)\n",
    "dim_offres.to_csv(r'Transformed data/dim_offres.csv', encoding='utf-8', index=False)\n",
    "fact_offres.to_csv(r'Transformed data/fact_offres.csv', encoding='utf-8', index=False)\n",
    "fact_candidat.to_csv(r'Transformed data/fact_candidat.csv', encoding='utf-8', index=False)"
   ]
  },
  {
   "cell_type": "code",
   "execution_count": null,
   "metadata": {},
   "outputs": [],
   "source": [
    "#candidature_prep.to_excel(r'Transformed data/candidature_prep.xlsx')"
   ]
  }
 ],
 "metadata": {
  "kernelspec": {
   "display_name": "Python 3",
   "language": "python",
   "name": "python3"
  },
  "language_info": {
   "codemirror_mode": {
    "name": "ipython",
    "version": 3
   },
   "file_extension": ".py",
   "mimetype": "text/x-python",
   "name": "python",
   "nbconvert_exporter": "python",
   "pygments_lexer": "ipython3",
   "version": "3.7.4"
  }
 },
 "nbformat": 4,
 "nbformat_minor": 4
}
